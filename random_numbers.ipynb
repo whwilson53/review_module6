{
 "cells": [
  {
   "cell_type": "code",
   "execution_count": 8,
   "id": "c7194dcd",
   "metadata": {},
   "outputs": [],
   "source": [
    "import random\n",
    "import numpy as np"
   ]
  },
  {
   "cell_type": "code",
   "execution_count": 9,
   "id": "886b81ad",
   "metadata": {},
   "outputs": [
    {
     "data": {
      "text/plain": [
       "-52"
      ]
     },
     "execution_count": 9,
     "metadata": {},
     "output_type": "execute_result"
    }
   ],
   "source": [
    "random.randint(-90, 90)"
   ]
  },
  {
   "cell_type": "code",
   "execution_count": 10,
   "id": "ba58eda2",
   "metadata": {},
   "outputs": [
    {
     "data": {
      "text/plain": [
       "0.13973340840269532"
      ]
     },
     "execution_count": 10,
     "metadata": {},
     "output_type": "execute_result"
    }
   ],
   "source": [
    "random.random()"
   ]
  },
  {
   "cell_type": "code",
   "execution_count": 11,
   "id": "6672de97",
   "metadata": {},
   "outputs": [
    {
     "data": {
      "text/plain": [
       "-60.15156586431007"
      ]
     },
     "execution_count": 11,
     "metadata": {},
     "output_type": "execute_result"
    }
   ],
   "source": [
    "random_number = random.randint(-90, 89) + random.random()\n",
    "random_number"
   ]
  },
  {
   "cell_type": "code",
   "execution_count": 14,
   "id": "54cb58a1",
   "metadata": {},
   "outputs": [
    {
     "data": {
      "text/plain": [
       "array([-77.81505514,   5.42537997, -23.13509716,  20.41227092,\n",
       "        -0.44383303,  65.04237048, -41.81427874, -41.95315721,\n",
       "       -52.33819235,  69.73349276,  82.25402212,  25.8406871 ,\n",
       "        59.94479259,  67.12671649,  -7.87281904])"
      ]
     },
     "execution_count": 14,
     "metadata": {},
     "output_type": "execute_result"
    }
   ],
   "source": [
    "#use numpy\n",
    "np.random.uniform(-90.000, 90.000, size =15)"
   ]
  },
  {
   "cell_type": "code",
   "execution_count": null,
   "id": "1303b411",
   "metadata": {},
   "outputs": [],
   "source": []
  }
 ],
 "metadata": {
  "kernelspec": {
   "display_name": "PythonData",
   "language": "python",
   "name": "pythondata"
  },
  "language_info": {
   "codemirror_mode": {
    "name": "ipython",
    "version": 3
   },
   "file_extension": ".py",
   "mimetype": "text/x-python",
   "name": "python",
   "nbconvert_exporter": "python",
   "pygments_lexer": "ipython3",
   "version": "3.7.11"
  }
 },
 "nbformat": 4,
 "nbformat_minor": 5
}
